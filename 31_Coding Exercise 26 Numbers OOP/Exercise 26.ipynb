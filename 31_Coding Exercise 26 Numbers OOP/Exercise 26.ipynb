{
 "cells": [
  {
   "cell_type": "code",
   "execution_count": 23,
   "id": "5d50a8de-24e1-434e-a11b-89164bcee928",
   "metadata": {},
   "outputs": [],
   "source": [
    "class SimuladorPrestamo:\n",
    "    def __init__(self, detalles_prestamo):\n",
    "        self.años_prestamo = 30\n",
    "        self.precio_vivienda = 300000\n",
    "        self.tasa_mensual = (detalles_prestamo.imag / 12) / 100\n",
    "        self.numero_pagos = self.años_prestamo * 12\n",
    "        self.entrada = detalles_prestamo.real\n",
    "        self.prestamo = self.precio_vivienda - self.entrada\n",
    "        self.cuota_mensual = 0\n",
    "\n",
    "\n",
    "    def calcular_pago_total(self):\n",
    "        self.cuota_mensual = self.prestamo * (self.tasa_mensual * (1 + self.tasa_mensual) ** self.numero_pagos) / (\n",
    "                    (1 + self.tasa_mensual) ** self.numero_pagos - 1)\n",
    "        return self.cuota_mensual\n",
    "\n",
    "    def mostrar_resultados(self):\n",
    "        print(\n",
    "            f\"----- Simulación Hipoteca -----\\nPara una vivienda de {self.precio_vivienda} aportando una entrada de {self.entrada} euros y con una tasa de interés del 2.5% anual durante {self.años_prestamo} años:\\nCuota mensual a pagar: {self.cuota_mensual} euros\\n----- Fin de la Simulación -----\")\n"
   ]
  },
  {
   "cell_type": "code",
   "execution_count": 24,
   "id": "a54f9132-7e89-47f7-a269-e05755e90fd2",
   "metadata": {},
   "outputs": [],
   "source": [
    "prestamo = SimuladorPrestamo(50000+2.5j)"
   ]
  },
  {
   "cell_type": "code",
   "execution_count": 25,
   "id": "125b0e5c-3263-492a-8cfb-eadc01f1d920",
   "metadata": {},
   "outputs": [
    {
     "data": {
      "text/plain": [
       "987.8022470442972"
      ]
     },
     "execution_count": 25,
     "metadata": {},
     "output_type": "execute_result"
    }
   ],
   "source": [
    "prestamo.calcular_pago_total()"
   ]
  },
  {
   "cell_type": "code",
   "execution_count": 26,
   "id": "f604c941-7deb-4efb-a3f3-3c432013448e",
   "metadata": {},
   "outputs": [
    {
     "name": "stdout",
     "output_type": "stream",
     "text": [
      "----- Simulación Hipoteca -----\n",
      "Para una vivienda de 300000 aportando una entrada de 50000.0 euros y con una tasa de interés del 2.5% anual durante 30 años:\n",
      "Cuota mensual a pagar: 987.8022470442972 euros\n",
      "----- Fin de la Simulación -----\n"
     ]
    }
   ],
   "source": [
    "prestamo.mostrar_resultados()"
   ]
  }
 ],
 "metadata": {
  "kernelspec": {
   "display_name": "Python 3 (ipykernel)",
   "language": "python",
   "name": "python3"
  },
  "language_info": {
   "codemirror_mode": {
    "name": "ipython",
    "version": 3
   },
   "file_extension": ".py",
   "mimetype": "text/x-python",
   "name": "python",
   "nbconvert_exporter": "python",
   "pygments_lexer": "ipython3",
   "version": "3.12.4"
  }
 },
 "nbformat": 4,
 "nbformat_minor": 5
}
